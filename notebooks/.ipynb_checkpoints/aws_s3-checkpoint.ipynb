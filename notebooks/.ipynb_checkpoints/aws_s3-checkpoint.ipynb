{
 "cells": [
  {
   "cell_type": "markdown",
   "metadata": {},
   "source": [
    "### Amazon S3 task"
   ]
  },
  {
   "cell_type": "code",
   "execution_count": 2,
   "metadata": {},
   "outputs": [],
   "source": [
    "# 1) create sparse file with target size\n",
    "# 2) upload file to S3 by partitioning file into chunks and use multi-file upload with return key, part_no etc..\n",
    "# 3) copy file from one bucket to another by reassigning keys to point to new bucket"
   ]
  },
  {
   "cell_type": "code",
   "execution_count": 3,
   "metadata": {},
   "outputs": [],
   "source": [
    "import moto\n",
    "from moto import mock_s3\n",
    "import boto3\n",
    "from boto3.s3.transfer import TransferConfig\n",
    "\n",
    "\n",
    "def create_sparse_file(filename: str, target_size: float):\n",
    "    with open(filename, \"wb\") as out:\n",
    "        out.truncate(target_size * 1024 ** 3)\n",
    "\n",
    "        \n",
    "@mock_s3\n",
    "class AmazonAws:\n",
    "    # set upload threshold to 100Mb\n",
    "    _PART_THRESHOLD: int = 100 * (1024**2)\n",
    "    connection = None\n",
    "        \n",
    "    def __init__(self):\n",
    "        self.config = TransferConfig(multipart_threshold=self._PART_THRESHOLD)\n",
    "\n",
    "        self._connect()\n",
    "        \n",
    "    def upload_file(self, path: str, bucket: str, key: str):\n",
    "        print(f\"Bucket_list before upload {self.get_buckets}\")\n",
    "        if bucket not in self.get_buckets:\n",
    "            self.create_bucket(bucket)\n",
    "        \n",
    "        bucket_a_files_before = list(file for file in self.connection.Bucket(bucket).objects.all())\n",
    "        print(f\"Content of bucket_a before upload{bucket_a_files_before}\\n\")\n",
    "\n",
    "        self.connection.meta.client.upload_file(path,\n",
    "                                                bucket,\n",
    "                                                key,\n",
    "                                                Config=self.config)\n",
    "        bucket_a_files_after = list(file for file in self.connection.Bucket(bucket).objects.all())\n",
    "        print(f\"Content of bucket_a after upload{bucket_a_files_after}\\n\")\n",
    "        \n",
    "    \n",
    "    def move_content(self, source: str, target: str, key: str):\n",
    "        # reassign pointers to new bucket instead of physically copying the file        \n",
    "        copy_source = {'Bucket': source,\n",
    "                       'Key': key}\n",
    "        self.connection.meta.client.copy_object(CopySource=copy_source,\n",
    "                                                Bucket=target,\n",
    "                                                Key=key)\n",
    "        \n",
    "        print(f\"Bucket list after content copy {self.get_buckets}\\n\")\n",
    "        \n",
    "        bucket_b_files = list(file for file in self.connection.Bucket(target).objects.all())\n",
    "        print(f\"Content of bucket_b {bucket_b_files}\\n\")\n",
    "  \n",
    "    @property\n",
    "    def get_buckets(self):\n",
    "        return list(self.connection.buckets.all())\n",
    "    \n",
    "    def create_bucket(self, name: str, **kwargs):\n",
    "        self.connection.create_bucket(Bucket=name, **kwargs) \n",
    "    \n",
    "    def _connect(self):\n",
    "        self.connection = boto3.resource('s3',\n",
    "                                         region_name='us-east-1')"
   ]
  },
  {
   "cell_type": "code",
   "execution_count": null,
   "metadata": {},
   "outputs": [],
   "source": [
    "create_sparse_file(filename = 'test.file',\n",
    "                   target_size = 5.0)\n",
    "\n",
    "mock = mock_s3()\n",
    "mock.start()\n",
    "\n",
    "aws = AmazonAws()\n",
    "aws.upload_file(path=\"test.file\",\n",
    "                bucket=\"bucket_a\",\n",
    "                key=\"test.file\")\n",
    "aws.create_bucket(name=\"bucket_b\")\n",
    "aws.move_content(source=\"bucket_a\",\n",
    "                 target=\"bucket_b\",\n",
    "                 key=\"test.file\")\n",
    "mock.stop()"
   ]
  }
 ],
 "metadata": {
  "kernelspec": {
   "display_name": "Python 3",
   "language": "python",
   "name": "python3"
  },
  "language_info": {
   "codemirror_mode": {
    "name": "ipython",
    "version": 3
   },
   "file_extension": ".py",
   "mimetype": "text/x-python",
   "name": "python",
   "nbconvert_exporter": "python",
   "pygments_lexer": "ipython3",
   "version": "3.7.0"
  }
 },
 "nbformat": 4,
 "nbformat_minor": 2
}
