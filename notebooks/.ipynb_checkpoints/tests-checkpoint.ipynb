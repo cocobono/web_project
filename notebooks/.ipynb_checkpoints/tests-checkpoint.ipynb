{
 "cells": [
  {
   "cell_type": "markdown",
   "metadata": {},
   "source": [
    "## Adverity assignment"
   ]
  },
  {
   "cell_type": "markdown",
   "metadata": {},
   "source": [
    "### GoogleTrends"
   ]
  },
  {
   "cell_type": "code",
   "execution_count": 13,
   "metadata": {},
   "outputs": [],
   "source": [
    "from pytrends.request import TrendReq\n",
    "pytrends = TrendReq(hl='en-US', tz=360)\n",
    "import pandas as pd\n",
    "\n",
    "\n",
    "kw_list = [\"Blockchain\"]\n",
    "pytrends.build_payload(kw_list, cat=0, timeframe='today 5-y', geo='', gprop='')\n",
    "pytrends.interest_over_time()\n",
    "\n",
    "class GoogleTrends:    \n",
    "    def __init__(self, client):\n",
    "        self.client = client\n",
    "        self._collection = list()\n",
    "        self.pytrends = TrendReq(hl='en-US',\n",
    "                                 tz=360)\n",
    "\n",
    "    @property\n",
    "    def get_response(self, keywords: list, timeframe: str, collect: bool=True, **kwargs):\n",
    "        self.pytrends.build_payload(keywords=keywords,\n",
    "                                    timeframe=timeframe,\n",
    "                                    **kwargs)\n",
    "        response = self.pytrends.interest_over_time()\n",
    "        \n",
    "        if collect:\n",
    "            self._collection.append(response)\n",
    "            \n",
    "        return response\n",
    "    \n",
    "    def plot_response(self, event: pd.DataFrame):\n",
    "        # use seaborn or plotly to plot simple time graph\n",
    "        pass\n",
    "    \n",
    "    def create_report(self):\n",
    "        # creates a csv report of the data from the request\n",
    "        pass\n",
    "    \n",
    "    def save(self):\n",
    "        # use user client model to add to django table with foreign key=User\n",
    "        pass\n",
    "    \n",
    "    def _check_client(client):\n",
    "        # check if user is already in database\n",
    "        pass"
   ]
  }
 ],
 "metadata": {
  "kernelspec": {
   "display_name": "Python 3",
   "language": "python",
   "name": "python3"
  },
  "language_info": {
   "codemirror_mode": {
    "name": "ipython",
    "version": 3
   },
   "file_extension": ".py",
   "mimetype": "text/x-python",
   "name": "python",
   "nbconvert_exporter": "python",
   "pygments_lexer": "ipython3",
   "version": "3.7.0"
  }
 },
 "nbformat": 4,
 "nbformat_minor": 2
}
