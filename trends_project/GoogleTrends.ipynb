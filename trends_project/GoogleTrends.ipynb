{
 "cells": [
  {
   "cell_type": "code",
   "execution_count": 3,
   "metadata": {},
   "outputs": [],
   "source": [
    "import pandas as pd\n",
    "from pytrends.request import TrendReq\n",
    "\n",
    "class GoogleTrends:\n",
    "    def __init__(self):\n",
    "        self._collection = list()\n",
    "\n",
    "        # initiates Google connection\n",
    "        self.pytrends = TrendReq(hl='en-US', tz=360)\n",
    "\n",
    "    def get_response(self, keywords: list,\n",
    "                     collect: bool=True,\n",
    "                     **kwargs):\n",
    "        \"\"\"Default keyword arguments are used, unless chosen my user.\n",
    "        Search must have at least one keyword and can have up to 5\n",
    "        parameters: timeframe, geo, cat, tz, gprop\"\"\"\n",
    "        if not keywords:\n",
    "            return None\n",
    "\n",
    "        # timeframe syntax\n",
    "        self.pytrends.build_payload(kw_list=keywords,\n",
    "                                    **kwargs)\n",
    "        response = self.pytrends.interest_over_time()\n",
    "        response = response.reset_index()\n",
    "\n",
    "        if collect:\n",
    "            self._collection.append(response)\n",
    "\n",
    "        return response\n",
    "    \n",
    "    def create_report(self, response):\n",
    "#         df = response.drop(columns=['isPartial'])\n",
    "        # creates a csv report of the data from the request\n",
    "        filename = 'InterestOverTime{}.csv'.format(1)\n",
    "\n",
    "        if self.cat:\n",
    "            cat_header = 'Category: ' + self.cat.name\n",
    "        else:\n",
    "            cat_header = 'Category: All categories'\n",
    "\n",
    "        with open(filename, \"w\") as f: \n",
    "            f.write(cat_header)\n",
    "            f.write('\\n')\n",
    "\n",
    "        report = response.to_csv(filename,\n",
    "                                 columns=[response.columns[1], response.columns[2]],\n",
    "                                 sep=',',\n",
    "                                 encoding='utf-8',\n",
    "                                 index=False,\n",
    "                                 mode='a')\n",
    "        report = dfinal.to_csv(t, index=False, mode='a')\n",
    "        return report\n"
   ]
  },
  {
   "cell_type": "code",
   "execution_count": 3,
   "metadata": {},
   "outputs": [],
   "source": [
    "from api.google_trends import GoogleTrends"
   ]
  },
  {
   "cell_type": "code",
   "execution_count": 16,
   "metadata": {},
   "outputs": [],
   "source": [
    "import io, csv\n",
    "\n",
    "\n",
    "buffer = io.StringIO()\n",
    "wr = csv.writer(buffer,\n",
    "                quoting=csv.QUOTE_ALL)\n",
    "wr.writerows(df.to_csv())"
   ]
  },
  {
   "cell_type": "code",
   "execution_count": 15,
   "metadata": {},
   "outputs": [],
   "source": [
    "api = GoogleTrends()\n",
    "df = api.get_response([\"apple\"])"
   ]
  },
  {
   "cell_type": "code",
   "execution_count": 17,
   "metadata": {},
   "outputs": [
    {
     "name": "stdout",
     "output_type": "stream",
     "text": [
      "[]\n"
     ]
    }
   ],
   "source": [
    "print(buffer.readlines())"
   ]
  },
  {
   "cell_type": "code",
   "execution_count": null,
   "metadata": {},
   "outputs": [],
   "source": []
  }
 ],
 "metadata": {
  "kernelspec": {
   "display_name": "Python 3",
   "language": "python",
   "name": "python3"
  },
  "language_info": {
   "codemirror_mode": {
    "name": "ipython",
    "version": 3
   },
   "file_extension": ".py",
   "mimetype": "text/x-python",
   "name": "python",
   "nbconvert_exporter": "python",
   "pygments_lexer": "ipython3",
   "version": "3.7.0"
  }
 },
 "nbformat": 4,
 "nbformat_minor": 2
}
